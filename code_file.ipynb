
import pandas as pd
import numpy as np
from sklearn.model_selection import train_test_split
from sklearn.ensemble import RandomForestRegressor
from sklearn.metrics import mean_squared_error, r2_score
import joblib
import os

# Load dataset
data = pd.read_csv('/content/winequality-red.csv', sep=';')

# Prepare data
X = data.drop('quality', axis=1)
y = data['quality']

# Split data
X_train, X_test, y_train, y_test = train_test_split(
    X, y, test_size=0.2, random_state=42
)

# Train model
model = RandomForestRegressor(n_estimators=100, random_state=42)
model.fit(X_train, y_train)

# Evaluate
y_pred = model.predict(X_test)
rmse = np.sqrt(mean_squared_error(y_test, y_pred))
r2 = r2_score(y_test, y_pred)
print(f"Model RMSE: {rmse:.2f}")
print(f"Model R²: {r2:.2f}")

# Save model
os.makedirs('models', exist_ok=True)
joblib.dump(model, 'models/wine_model.pkl')

# Download the model file
from google.colab import files
files.download('models/wine_model.pkl')


from flask import Flask, request, jsonify
import joblib
import numpy as np

# Initialize Flask app
app = Flask(__name__)

# Load the saved model
model = joblib.load('wine_model.pkl')

@app.route('/predict', methods=['POST'])
def predict():
    data = request.get_json()
    features = np.array(data['features']).reshape(1, -1)
    prediction = model.predict(features)
    return jsonify({
        'predicted_quality': float(prediction[0])
    })

@app.route('/', methods=['GET'])
def home():
    return "🍷 Wine Quality Prediction API is running!"

if __name__ == '__main__':
    app.run(host='0.0.0.0', port=5000, debug=True)
